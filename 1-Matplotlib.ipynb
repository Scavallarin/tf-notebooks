{
 "cells": [
  {
   "cell_type": "code",
   "execution_count": 2,
   "metadata": {
    "collapsed": true,
    "deletable": true,
    "editable": true
   },
   "outputs": [],
   "source": [
    "%matplotlib inline\n",
    "import tensorflow as tf\n",
    "import numpy as np\n",
    "import matplotlib.pyplot as plt"
   ]
  },
  {
   "cell_type": "code",
   "execution_count": 4,
   "metadata": {
    "collapsed": false,
    "deletable": true,
    "editable": true
   },
   "outputs": [
    {
     "name": "stdout",
     "output_type": "stream",
     "text": [
      "[[ 1.12910569  1.05903649  0.4833822   0.1251628   2.28081203  0.70936102\n",
      "   0.64676958 -0.52405357 -0.1709322   0.05627189  0.10003817 -1.31249356\n",
      "   0.47157967  0.65776366 -0.11787286 -1.6941191  -0.95894611  0.12060428\n",
      "  -0.37346885 -0.67408293]\n",
      " [-0.30895537  0.17143802  0.04867462  1.61988235 -0.5795359   0.44133598\n",
      "  -0.18216562  1.9566462  -0.20962669 -0.79244119  0.08555171 -1.85063457\n",
      "  -0.54475987  0.56064701  0.75041234 -0.13194886 -0.73973638  0.95279139\n",
      "  -0.08757986  0.50149828]]\n"
     ]
    },
    {
     "data": {
      "image/png": "[encoded data removed]",
      "text/plain": [
       "<matplotlib.figure.Figure at 0x10dd49ac8>"
      ]
     },
     "metadata": {},
     "output_type": "display_data"
    }
   ],
   "source": [
    "a = tf.random_normal([ 2,20])\n",
    "sess = tf.Session()\n",
    "a = tf.random_normal([ 2,20]) \n",
    "sess = tf.Session() \n",
    "out = sess.run(a) \n",
    "print(out)\n",
    "x, y = out \n",
    "plt.scatter( x, y) \n",
    "plt.show() "
   ]
  },
  {
   "cell_type": "code",
   "execution_count": null,
   "metadata": {
    "collapsed": true,
    "deletable": true,
    "editable": true
   },
   "outputs": [],
   "source": []
  }
 ],
 "metadata": {
  "kernelspec": {
   "display_name": "Python 3",
   "language": "python",
   "name": "python3"
  },
  "language_info": {
   "codemirror_mode": {
    "name": "ipython",
    "version": 3
   },
   "file_extension": ".py",
   "mimetype": "text/x-python",
   "name": "python",
   "nbconvert_exporter": "python",
   "pygments_lexer": "ipython3",
   "version": "3.6.1"
  }
 },
 "nbformat": 4,
 "nbformat_minor": 2
}
