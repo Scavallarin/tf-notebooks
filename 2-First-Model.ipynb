{
 "cells": [
  {
   "cell_type": "code",
   "execution_count": 2,
   "metadata": {
    "collapsed": false,
    "deletable": true,
    "editable": true
   },
   "outputs": [],
   "source": [
    "import tensorflow as tf \n",
    "a = tf.constant(5,name=\"input_a\")\n",
    "b = tf.constant( 3, name=\"input_b\") \n",
    "c = tf.mul( a, b, name=\"mul_c\") \n",
    "d = tf.add( a, b, name=\"add_d\") \n",
    "e = tf.add( c, d, name=\"add_e\")\n",
    "sess = tf.Session()\n",
    "sess.run(e)\n",
    "writer = tf.train.SummaryWriter('./my_graph',sess.graph)"
   ]
  },
  {
   "cell_type": "code",
   "execution_count": null,
   "metadata": {
    "collapsed": true,
    "deletable": true,
    "editable": true
   },
   "outputs": [],
   "source": []
  }
 ],
 "metadata": {
  "kernelspec": {
   "display_name": "Python 3",
   "language": "python",
   "name": "python3"
  },
  "language_info": {
   "codemirror_mode": {
    "name": "ipython",
    "version": 3
   },
   "file_extension": ".py",
   "mimetype": "text/x-python",
   "name": "python",
   "nbconvert_exporter": "python",
   "pygments_lexer": "ipython3",
   "version": "3.6.1"
  }
 },
 "nbformat": 4,
 "nbformat_minor": 2
}
